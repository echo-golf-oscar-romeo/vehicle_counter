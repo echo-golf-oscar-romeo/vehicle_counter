{
 "cells": [
  {
   "cell_type": "code",
   "execution_count": 1,
   "id": "237d194f",
   "metadata": {},
   "outputs": [],
   "source": [
    "import cv2\n",
    "import numpy as np"
   ]
  },
  {
   "cell_type": "code",
   "execution_count": 177,
   "id": "d0286a45",
   "metadata": {},
   "outputs": [],
   "source": [
    "def center_point(x,y,w,h):\n",
    "    return int(x) + int(w/2), int(y) + int(h/2)\n",
    "\n",
    "\n",
    "def is_in_offset(center_point, line_point_1, line_point_2, offset):                              \n",
    "    tg = (line_point_1[1] - line_point_2[1]) / (line_point_1[0] - line_point_2[0])\n",
    "    ly = offset / pow(1 + tg, 1/2)\n",
    "    lx = pow(offset ** 2 - ly ** 2, 1/2)\n",
    "    p1 = (line_point_1[0] + lx, line_point_1[1] - ly)\n",
    "    p2 = (line_point_2[0] + lx, line_point_2[1] - ly)\n",
    "    p3 = (line_point_2[0] - lx, line_point_2[1] + ly)\n",
    "    p4 = (line_point_1[0] - lx, line_point_1[1] + ly)\n",
    "    xp = int(center_point[0])\n",
    "    yp = int(center_point[1])\n",
    "    is_in = False\n",
    "    if (p2[0] - p1[0]) * (yp - p1[1]) - (xp - p1[0]) * (p2[1] - p1[1]) >= 0 \\\n",
    "        and (p3[0] - p2[0]) * (yp - p2[1]) - (xp - p2[0]) * (p3[1] - p2[1]) >= 0 \\\n",
    "        and (p4[0] - p3[0]) * (yp - p3[1]) - (xp - p3[0]) * (p4[1] - p3[1]) >= 0 \\\n",
    "        and (p1[0] - p4[0]) * (yp - p4[1]) - (xp - p4[0]) * (p1[1] - p4[1]) >= 0:\n",
    "        is_in = True\n",
    "    return is_in\n",
    "\n",
    "\n",
    "def rect_node(frame, line_point_1, line_point_2, offset):\n",
    "    tg = (line_point_1[1] - line_point_2[1]) / (line_point_1[0] - line_point_2[0])\n",
    "    ly = offset / pow(1 + tg, 1/2)\n",
    "    lx = pow(offset ** 2 - ly ** 2, 1/2)\n",
    "    p1 = (int(line_point_1[0] + lx), int(line_point_1[1] - ly))\n",
    "    p2 = (int(line_point_2[0] + lx), int(line_point_2[1] - ly))\n",
    "    p3 = (int(line_point_2[0] - lx), int(line_point_2[1] + ly))\n",
    "    p4 = (int(line_point_1[0] - lx), int(line_point_1[1] + ly))\n",
    "    return [p1,p2,p3,p4]"
   ]
  },
  {
   "cell_type": "code",
   "execution_count": 178,
   "id": "6f6d11e2",
   "metadata": {},
   "outputs": [
    {
     "name": "stdout",
     "output_type": "stream",
     "text": [
      "1 (413, 434)\n",
      "2 (342, 359)\n",
      "3 (416, 450)\n",
      "4 (357, 373)\n",
      "5 (363, 376)\n",
      "6 (366, 379)\n",
      "7 (358, 381)\n",
      "8 (370, 384)\n",
      "9 (335, 351)\n",
      "10 (377, 390)\n",
      "11 (367, 393)\n",
      "12 (326, 332)\n",
      "13 (321, 334)\n",
      "14 (328, 340)\n",
      "15 (326, 332)\n",
      "16 (323, 334)\n"
     ]
    },
    {
     "ename": "KeyboardInterrupt",
     "evalue": "",
     "output_type": "error",
     "traceback": [
      "\u001b[1;31m---------------------------------------------------------------------------\u001b[0m",
      "\u001b[1;31mKeyboardInterrupt\u001b[0m                         Traceback (most recent call last)",
      "\u001b[1;32m~\\AppData\\Local\\Temp/ipykernel_19096/92240731.py\u001b[0m in \u001b[0;36m<module>\u001b[1;34m\u001b[0m\n\u001b[0;32m     15\u001b[0m     \u001b[0mblur\u001b[0m \u001b[1;33m=\u001b[0m \u001b[0mcv2\u001b[0m\u001b[1;33m.\u001b[0m\u001b[0mGaussianBlur\u001b[0m\u001b[1;33m(\u001b[0m\u001b[0mgray\u001b[0m\u001b[1;33m,\u001b[0m \u001b[1;33m(\u001b[0m\u001b[1;36m3\u001b[0m\u001b[1;33m,\u001b[0m\u001b[1;36m3\u001b[0m\u001b[1;33m)\u001b[0m\u001b[1;33m,\u001b[0m \u001b[1;36m5\u001b[0m\u001b[1;33m)\u001b[0m\u001b[1;33m\u001b[0m\u001b[1;33m\u001b[0m\u001b[0m\n\u001b[0;32m     16\u001b[0m \u001b[1;33m\u001b[0m\u001b[0m\n\u001b[1;32m---> 17\u001b[1;33m     \u001b[0mimg_sub\u001b[0m \u001b[1;33m=\u001b[0m \u001b[0mback_substractor\u001b[0m\u001b[1;33m.\u001b[0m\u001b[0mapply\u001b[0m\u001b[1;33m(\u001b[0m\u001b[0mblur\u001b[0m\u001b[1;33m)\u001b[0m\u001b[1;33m\u001b[0m\u001b[1;33m\u001b[0m\u001b[0m\n\u001b[0m\u001b[0;32m     18\u001b[0m     \u001b[0mkernel_dilate\u001b[0m \u001b[1;33m=\u001b[0m \u001b[0mnp\u001b[0m\u001b[1;33m.\u001b[0m\u001b[0mones\u001b[0m\u001b[1;33m(\u001b[0m\u001b[1;33m(\u001b[0m\u001b[1;36m5\u001b[0m\u001b[1;33m,\u001b[0m\u001b[1;36m5\u001b[0m\u001b[1;33m)\u001b[0m\u001b[1;33m,\u001b[0m \u001b[1;34m'uint8'\u001b[0m\u001b[1;33m)\u001b[0m\u001b[1;33m\u001b[0m\u001b[1;33m\u001b[0m\u001b[0m\n\u001b[0;32m     19\u001b[0m     \u001b[0mdilated\u001b[0m \u001b[1;33m=\u001b[0m \u001b[0mcv2\u001b[0m\u001b[1;33m.\u001b[0m\u001b[0mdilate\u001b[0m\u001b[1;33m(\u001b[0m\u001b[0mimg_sub\u001b[0m\u001b[1;33m,\u001b[0m \u001b[0mkernel_dilate\u001b[0m\u001b[1;33m)\u001b[0m\u001b[1;33m\u001b[0m\u001b[1;33m\u001b[0m\u001b[0m\n",
      "\u001b[1;31mKeyboardInterrupt\u001b[0m: "
     ]
    }
   ],
   "source": [
    "cap = cv2.VideoCapture('crossroad.mp4')\n",
    "\n",
    "counter = 0\n",
    "min_width = 60\n",
    "min_height = 60\n",
    "detected = []\n",
    "count_line_1 = (275,275)\n",
    "count_line_2 = (525, 575)\n",
    "offset = 5\n",
    "back_substractor = cv2.bgsegm.createBackgroundSubtractorMOG()\n",
    "\n",
    "while(cap.isOpened()):\n",
    "    ret, frame = cap.read()\n",
    "    gray = cv2.cvtColor(frame, cv2.COLOR_BGR2GRAY)\n",
    "    blur = cv2.GaussianBlur(gray, (3,3), 5)\n",
    "    \n",
    "    img_sub = back_substractor.apply(blur)\n",
    "    kernel_dilate = np.ones((5,5), 'uint8')\n",
    "    dilated = cv2.dilate(img_sub, kernel_dilate)\n",
    "    kernel = cv2.getStructuringElement(cv2.MORPH_ELLIPSE,(5,5))\n",
    "    dst_0 = cv2.morphologyEx(dilated, cv2.MORPH_CLOSE, kernel)\n",
    "    dst = cv2.morphologyEx(dst_0, cv2.MORPH_CLOSE, kernel)\n",
    "    contours, h = cv2.findContours(dst, cv2.RETR_TREE, cv2.CHAIN_APPROX_SIMPLE)\n",
    "    #cv2.imshow('Detector', dst)\n",
    "    \n",
    "    cv2.line(frame, (275,275), (525, 575), (248,24,48), 3)\n",
    "    \n",
    "    for i in rect_node(frame, count_line_1, count_line_2, offset):\n",
    "        cv2.circle(frame, i, 3, (255,0,0), -1)\n",
    "    \n",
    "    for (i, shape) in enumerate(contours):\n",
    "        (x,y,w,h) = cv2.boundingRect(shape)\n",
    "        is_big_enough = w > min_width and h > min_height\n",
    "        if not is_big_enough:\n",
    "            continue\n",
    "    \n",
    "        cv2.rectangle(frame,(x,y),(x+w,y+h),(0,255,0),2)\n",
    "        center = center_point(x,y,w,h)\n",
    "        cv2.circle(frame, center,3,(34,54,180),-1)\n",
    "        detected.append(center)                                        \n",
    "    for (x,y) in detected:\n",
    "        if is_in_offset((x,y), count_line_1, count_line_2, offset):\n",
    "            counter += 1\n",
    "            print(counter, (x,y))\n",
    "            cv2.line(frame, count_line_1, count_line_2, (0,25,158), 5)\n",
    "            detected.remove((x,y))\n",
    "            \n",
    "    cv2.putText(frame, \"vehicles so far: \" + str(counter), (25,25), cv2.FONT_HERSHEY_COMPLEX, fontScale=1, color=(200,10,20))\n",
    "\n",
    "    cv2.imshow('Crossroad_video', frame)\n",
    "    if cv2.waitKey(1) == 1:\n",
    "        break\n",
    "    \n",
    "cap.release()\n",
    "cv2.destroyAllWindows()"
   ]
  },
  {
   "cell_type": "code",
   "execution_count": null,
   "id": "cacdb558",
   "metadata": {},
   "outputs": [],
   "source": []
  }
 ],
 "metadata": {
  "kernelspec": {
   "display_name": "Python 3 (ipykernel)",
   "language": "python",
   "name": "python3"
  },
  "language_info": {
   "codemirror_mode": {
    "name": "ipython",
    "version": 3
   },
   "file_extension": ".py",
   "mimetype": "text/x-python",
   "name": "python",
   "nbconvert_exporter": "python",
   "pygments_lexer": "ipython3",
   "version": "3.9.6"
  }
 },
 "nbformat": 4,
 "nbformat_minor": 5
}
